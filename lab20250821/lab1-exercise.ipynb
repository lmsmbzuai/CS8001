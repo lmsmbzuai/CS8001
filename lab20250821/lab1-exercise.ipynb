{
 "cells": [
  {
   "cell_type": "markdown",
   "id": "6d10cff6",
   "metadata": {},
   "source": [
    "# **Exercise: Basics of Python and Numpy**"
   ]
  },
  {
   "cell_type": "markdown",
   "id": "337ef4b9",
   "metadata": {},
   "source": [
    "1. Import numpy and print the numpy version. (Hint: use ```__version___``` attribute to check package version.)"
   ]
  },
  {
   "cell_type": "code",
   "execution_count": 57,
   "id": "453728b7",
   "metadata": {},
   "outputs": [
    {
     "name": "stdout",
     "output_type": "stream",
     "text": [
      "2.3.2\n"
     ]
    }
   ],
   "source": [
    "# I created a special venv for the labs\n",
    "import numpy as np\n",
    "print(np.__version__)"
   ]
  },
  {
   "cell_type": "markdown",
   "id": "d8a080c7",
   "metadata": {},
   "source": [
    "2. Create a 4 x 5 matrix filled with random values. Name it as ```x```."
   ]
  },
  {
   "cell_type": "code",
   "execution_count": 58,
   "id": "1bd0c3ca",
   "metadata": {},
   "outputs": [
    {
     "data": {
      "text/plain": [
       "array([[0.15235863, 0.84687229, 0.23105265, 0.64038762, 0.05020247],\n",
       "       [0.91230533, 0.70646618, 0.20806563, 0.65092095, 0.64541598],\n",
       "       [0.63350857, 0.21606277, 0.30172054, 0.42814949, 0.91108323],\n",
       "       [0.37386737, 0.22754397, 0.34047729, 0.57528695, 0.28890705]])"
      ]
     },
     "execution_count": 58,
     "metadata": {},
     "output_type": "execute_result"
    }
   ],
   "source": [
    "x = np.random.random((4, 5))\n",
    "x"
   ]
  },
  {
   "cell_type": "markdown",
   "id": "6341b099",
   "metadata": {},
   "source": [
    "3. Create a 3 x 3 matrix filled with [[1, 2, 3], [4, 5, 6], [7, 8, 9]]. Name it as ```y```."
   ]
  },
  {
   "cell_type": "code",
   "execution_count": 60,
   "id": "c9f48e33",
   "metadata": {},
   "outputs": [
    {
     "data": {
      "text/plain": [
       "(3, 3)"
      ]
     },
     "execution_count": 60,
     "metadata": {},
     "output_type": "execute_result"
    }
   ],
   "source": [
    "y = np.array([[1, 2, 3], \n",
    "              [4, 5, 6], \n",
    "              [7, 8, 9]])\n",
    "np.shape(y)"
   ]
  },
  {
   "cell_type": "markdown",
   "id": "48dfad75",
   "metadata": {},
   "source": [
    "4. Swap the first two rows of ```x```."
   ]
  },
  {
   "cell_type": "code",
   "execution_count": 61,
   "id": "d48b2650",
   "metadata": {},
   "outputs": [
    {
     "data": {
      "text/plain": [
       "array([[0.91230533, 0.70646618, 0.20806563, 0.65092095, 0.64541598],\n",
       "       [0.15235863, 0.84687229, 0.23105265, 0.64038762, 0.05020247],\n",
       "       [0.63350857, 0.21606277, 0.30172054, 0.42814949, 0.91108323],\n",
       "       [0.37386737, 0.22754397, 0.34047729, 0.57528695, 0.28890705]])"
      ]
     },
     "execution_count": 61,
     "metadata": {},
     "output_type": "execute_result"
    }
   ],
   "source": [
    "x[[1, 0]] = x[[0, 1]]\n",
    "x"
   ]
  },
  {
   "cell_type": "markdown",
   "id": "51688b02",
   "metadata": {},
   "source": [
    "5. Create a random numpy array with shape (100, 2) and name it ```z```. Each row indicates the coordinates of a point. Compute point by point distances."
   ]
  },
  {
   "cell_type": "code",
   "execution_count": 62,
   "id": "6b85c6c9",
   "metadata": {},
   "outputs": [
    {
     "name": "stdout",
     "output_type": "stream",
     "text": [
      "[1.4744739  1.48409241 1.41136316 1.39592099 1.61676203 1.22426791\n",
      " 1.49555947 1.53291903 1.33775506 1.60466003 1.32106626 1.45992258\n",
      " 1.22230938 1.60730236 1.37671261 1.50531102 1.53178835 1.29300024\n",
      " 1.59880549 1.27100579 1.30400026 1.4924418  1.41074666 1.59702048\n",
      " 1.22589733 1.33350863 1.51150259 1.397977   1.59052934 1.40532331\n",
      " 1.60333828 1.29150304 1.38718704 1.54467984 1.37914914 1.44425149\n",
      " 1.42862769 1.41310074 1.64796146 1.28228792 1.46858302 1.55955813\n",
      " 1.29807617 1.47752397 1.3420335  1.48380326 1.53174979 1.14067358\n",
      " 1.78252191 1.35498523 1.37496789 1.46329346 1.16875038 1.84104454\n",
      " 1.10527795 1.70126705 1.28957316 1.5646902  1.18936782 1.40014255\n",
      " 1.74234907 1.44336418 1.23825081 1.68312802 1.34739074 1.41354501\n",
      " 1.32901192 1.40322614 1.53952853 1.5414046  1.5338425  1.21324327\n",
      " 1.52524034 1.3211762  1.29393058 1.69508501 1.4486815  1.52003276\n",
      " 1.31547028 1.36972848 1.52167863 1.26350659 1.77420225 1.05516968\n",
      " 1.69250958 1.4242203  1.3431667  1.50658749 1.46575298 1.2912111\n",
      " 1.70393957 1.16683291 1.50985027 1.25975684 1.66642523 1.44217887\n",
      " 1.46242034 1.459399   1.25448362]\n"
     ]
    }
   ],
   "source": [
    "# I couldn't find and other way avoiding the loop!\n",
    "\n",
    "nb_rows = 100\n",
    "nb_columns = 2\n",
    "z = np.random.random((nb_rows, nb_columns))\n",
    "distances = np.zeros(nb_rows-1)\n",
    "\n",
    "for i, values in enumerate(z): \n",
    "    if i == 99:\n",
    "        pass\n",
    "    else:\n",
    "        d = np.sqrt(np.exp2(z[i+1][0] - z[i][0]) + \n",
    "                    np.exp2(z[i+1][1] - z[i][1])\n",
    "                   )\n",
    "        distances[i] = d\n",
    "        \n",
    "print(distances)"
   ]
  },
  {
   "cell_type": "markdown",
   "id": "f650d9a1",
   "metadata": {},
   "source": [
    "6. Subtract the mean of each row of ```y```."
   ]
  },
  {
   "cell_type": "code",
   "execution_count": 63,
   "id": "6cd7909c",
   "metadata": {},
   "outputs": [
    {
     "data": {
      "text/plain": [
       "array([[-1.,  0.,  1.],\n",
       "       [-1.,  0.,  1.],\n",
       "       [-1.,  0.,  1.]])"
      ]
     },
     "execution_count": 63,
     "metadata": {},
     "output_type": "execute_result"
    }
   ],
   "source": [
    "mean_rows = y.mean(axis=1, keepdims=True)\n",
    "y = y - mean_rows\n",
    "y"
   ]
  },
  {
   "cell_type": "markdown",
   "id": "d9d6942d",
   "metadata": {},
   "source": [
    "7. Add a vector [1, 0, 1] to each row of ```y``` using broadcasting and name the resulting numpy array as ```yy```."
   ]
  },
  {
   "cell_type": "code",
   "execution_count": 64,
   "id": "900a59eb",
   "metadata": {},
   "outputs": [
    {
     "data": {
      "text/plain": [
       "array([[0., 0., 2.],\n",
       "       [0., 0., 2.],\n",
       "       [0., 0., 2.]])"
      ]
     },
     "execution_count": 64,
     "metadata": {},
     "output_type": "execute_result"
    }
   ],
   "source": [
    "v = np.array([[1, 0, 1]])\n",
    "yy = y + v\n",
    "yy"
   ]
  },
  {
   "cell_type": "markdown",
   "id": "e10a4e69",
   "metadata": {},
   "source": [
    "8. For each row in ```yy```, extract the value that are not equal to the other two values. Organize these values as a numpy array."
   ]
  },
  {
   "cell_type": "code",
   "execution_count": 66,
   "id": "d2bc9d10",
   "metadata": {},
   "outputs": [
    {
     "data": {
      "text/plain": [
       "array([[2.],\n",
       "       [2.],\n",
       "       [2.]])"
      ]
     },
     "execution_count": 66,
     "metadata": {},
     "output_type": "execute_result"
    }
   ],
   "source": [
    "# I use ChatGPT for the \"unique\" because I didn't remember how to create a kind of boolean to select the unique values\n",
    "a = []\n",
    "for row in yy:\n",
    "    values, counts = np.unique(row, return_counts=True)\n",
    "    unique_value = values[counts == 1]\n",
    "    a.append(unique_value)\n",
    "a = np.array(a)\n",
    "a"
   ]
  }
 ],
 "metadata": {
  "kernelspec": {
   "display_name": "Python 3 (ipykernel)",
   "language": "python",
   "name": "python3"
  },
  "language_info": {
   "codemirror_mode": {
    "name": "ipython",
    "version": 3
   },
   "file_extension": ".py",
   "mimetype": "text/x-python",
   "name": "python",
   "nbconvert_exporter": "python",
   "pygments_lexer": "ipython3",
   "version": "3.13.7"
  }
 },
 "nbformat": 4,
 "nbformat_minor": 5
}
