{
 "cells": [
  {
   "cell_type": "markdown",
   "id": "e180b40f",
   "metadata": {},
   "source": [
    "# **Lab 1: Git and NumPy**"
   ]
  },
  {
   "cell_type": "markdown",
   "id": "16745bd4",
   "metadata": {},
   "source": [
    "## **Quick Intro to Git**\n",
    "Version control is extremely helpful in academic research, as it could preserve work history, enable collaborative code editing, and help with reproducibility of your work. Here, we will use git as our version control system, which is one of the most widely used systems. \n",
    "\n",
    "### **Before Working with Any Git Repository** \n",
    "\n",
    "There are several useful global parameters to set:\n",
    "* Set up your user name using ```git config --global user.name <your name>```, so later on it is easier to track who made the change. Note that if there is space in ```<your name>```, you should use double quotation mark.\n",
    "\n",
    "* Set up your email using ```git config --global user.email <your email>```, so we know how to contact you for the change. Note that if there is space in ```<your email>```, you should use double quotation mark.\n",
    "\n",
    "* You could check your git config parameters using ```git config list```.\n",
    "\n",
    "\n",
    "### **Working with Git Locally**\n",
    "* Initialize git on a folder to make it a git **repository** using ```git init```. Then git will create a hidden folder to keep track of changes in that folder.\n",
    "\n",
    "* In git, there is a working directory, a staging area, and a git repository. The staging area is one of the most important concept in git, as it allows you to commit only part of the change in one commit. \n",
    "\n",
    "* When a file is changed, added or deleted, it is considered **modified**.\n",
    "\n",
    "* You select the modified files you want to **stage** using ```git add <files to add>``` (e.g., ```git add file1 file2 file3 ...```)\n",
    "\n",
    "* Only changes made to the file before you call ```git add <files to add>``` will be staged and commmitted later. All other changes made after calling ```git add``` to the file in the working directory will not be included in the staging area until you call ```git add <files to add>``` again.\n",
    "\n",
    "* If you want to commit the changes in staging area to the git repository, simply call ```git commit -m <commit message>```. Note that it is strongly suggested to write a meaningful commit message to help you preserve necessary work history and trace back changes later. Also note that if there is space in ```<commit message>```, you should use double quotation mark.\n",
    "\n",
    "### **GitHub Cheat Sheet**\n",
    "Git is a complex system and it is impossible to cover everything as well as useful tips in just one lab session. If you are interested in using Git, a GitHub Cheat Sheet by GitHub is provided under Week 1 in CS8001B on LMS (Moodle). There are also many other cheat sheets you could find online!"
   ]
  },
  {
   "cell_type": "markdown",
   "id": "d6bb8b77",
   "metadata": {},
   "source": [
    "## **Lab Instructions**\n",
    "\n",
    "### **Step 1. Installing Git and GitHub CLI**\n",
    "Install git on your local machine. Instructions for installing git can be found via: \n",
    "https://github.com/git-guides/install-git\n",
    "\n",
    "Install GitHub CLI so that you could submit your work to GitHub. Instructions for installing GitHub CLI can be found via: \n",
    "https://github.com/cli/cli#installation \n",
    "\n",
    "### **Step 2. Register a GitHub Account**\n",
    "GitHub (https://github.com/) is one of the most popular online platforms that stores Git repositories. You will need to upload your submission to GitHub for this lab session. Thus, the first step is to register your own GitHub project. If you already have your own GitHub account, feel free to skip it. \n",
    "\n",
    "### **Step 3. Git Clone**\n",
    "Clone the online repository that contains the exercise Jupyter Notebook using the following command\n",
    "```\n",
    "git clone https://github.com/jiank2/CS8001B-Fall2025.git\n",
    "```\n",
    "\n",
    "### **Step 4. Create a Branch**\n",
    "Create a new branch in the cloned repository using ```git branch <your firstname>``` (note that the branch name is suggested to not include any spaces and not end with symbols). \n",
    "\n",
    "After that, switch to the new branch you created using ```git switch <your firstname>```\n",
    "\n",
    "### **Step 5. Solve the Questions**\n",
    "Now solve the questions listed in `lab1-exercise.ipynb` using Numpy.\n",
    "\n",
    "### **Step 6. Stage and Commit**\n",
    "Once you finished all exercises, rename the file as `lab1-submission.ipynb` and stage the file ```git add lab1-submission.ipynb``` and commit ```git commit -m <commit message>``` with a meaningful commit message.\n",
    "\n",
    "### **Step 7. Push to GitHub**\n",
    "Push your local changes to your GitHub repo. Detailed instructions to push the changes can be found at: https://docs.github.com/en/migrations/importing-source-code/using-the-command-line-to-import-source-code/adding-locally-hosted-code-to-github#adding-a-local-repository-to-github-with-github-cli\n",
    "\n",
    "### **Step 8. Submit Your Work**\n",
    "Finally, please submit the link to your GitHub repo to Lab 1 under Week 1 in the CS8001B portal on LMS (Moodle)."
   ]
  },
  {
   "cell_type": "markdown",
   "id": "acdef2bc",
   "metadata": {},
   "source": []
  }
 ],
 "metadata": {
  "language_info": {
   "name": "python"
  }
 },
 "nbformat": 4,
 "nbformat_minor": 5
}
